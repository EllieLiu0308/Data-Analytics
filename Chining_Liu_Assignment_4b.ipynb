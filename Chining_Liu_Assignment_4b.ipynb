{
 "cells": [
  {
   "cell_type": "markdown",
   "id": "f13ab979",
   "metadata": {},
   "source": [
    "<h1>Problem 1: Product Operations within Ndarray using Numpy</h1>\n",
    "<li><b>argmin</b> A numpy function that returns the indices of the minimum values along an axis\n",
    "<li><b>argmax</b> A numpy function that returns the indices of the maximum values along an axis\n",
    "<li><b>sort</b> A numpy function that returns a sorted copy of an array\n",
    "<li><b>prod</b> A numpy function that returns the product of all elements in an array\n",
    "<li><b>cumprod</b> A numpy function on an ndarray of size n that returns an array of size n where each element i is the product of all elements from 0 to i"
   ]
  },
  {
   "cell_type": "code",
   "execution_count": 47,
   "id": "48cc197c",
   "metadata": {},
   "outputs": [],
   "source": [
    "import numpy as np\n",
    "\n",
    "def min_product(ndarray):\n",
    " \n",
    "    min_index = np.argmin(ndarray)\n",
    " \n",
    "    elements_before_min = ndarray[:min_index + 1]\n",
    "    \n",
    "    product = np.prod(elements_before_min)\n",
    "    \n",
    "    return product\n",
    " "
   ]
  },
  {
   "cell_type": "code",
   "execution_count": 48,
   "id": "e44a110f",
   "metadata": {},
   "outputs": [
    {
     "data": {
      "text/plain": [
       "180"
      ]
     },
     "execution_count": 48,
     "metadata": {},
     "output_type": "execute_result"
    }
   ],
   "source": [
    "import numpy as np\n",
    "min_product(np.array([5,3,6,2,9])) "
   ]
  },
  {
   "cell_type": "code",
   "execution_count": 49,
   "id": "acb47bb5",
   "metadata": {},
   "outputs": [],
   "source": [
    "def max_cumprod(arr):\n",
    "  \n",
    "    max_index = np.argmax(arr)\n",
    "\n",
    "    elements_after_max = arr[max_index:]\n",
    "    \n",
    "    cumprod = np.cumprod(elements_after_max)\n",
    "    \n",
    "    return cumprod\n",
    " \n",
    " "
   ]
  },
  {
   "cell_type": "code",
   "execution_count": 50,
   "id": "193c7714",
   "metadata": {},
   "outputs": [
    {
     "data": {
      "text/plain": [
       "array([ 20,  20, 180])"
      ]
     },
     "execution_count": 50,
     "metadata": {},
     "output_type": "execute_result"
    }
   ],
   "source": [
    "import numpy as np\n",
    "max_cumprod(np.array([10,20,1,9]))  "
   ]
  },
  {
   "cell_type": "code",
   "execution_count": 52,
   "id": "48368245",
   "metadata": {},
   "outputs": [],
   "source": [
    "def sort_cumprod(arr):\n",
    " \n",
    "    even_elements = np.sort(arr[arr % 2 == 0])\n",
    " \n",
    "    cumprod = np.cumprod(even_elements)\n",
    "    \n",
    "    return cumprod"
   ]
  },
  {
   "cell_type": "code",
   "execution_count": 53,
   "id": "7fb5616e",
   "metadata": {},
   "outputs": [
    {
     "data": {
      "text/plain": [
       "array([  4,  40, 800])"
      ]
     },
     "execution_count": 53,
     "metadata": {},
     "output_type": "execute_result"
    }
   ],
   "source": [
    "import numpy as np\n",
    "sort_cumprod(np.array([10,20,4,9,5]))  "
   ]
  },
  {
   "cell_type": "markdown",
   "id": "b167766b",
   "metadata": {},
   "source": [
    "<h1>Problem 2: Simple Moving Averages</h1>\n",
    "Write a function that constructs an ndarray from data in a file and returns the simple moving averages on an ndarray after removing any NaN values. \n",
    "\n",
    "<p>You may consider making use of the following functions:\n",
    "<li><b>np.genfromtxt:</b> https://docs.scipy.org/doc/numpy-1.13.0/reference/generated/numpy.genfromtxt.html\n",
    "<li><b>np.isnan:</b> https://docs.scipy.org/doc/numpy-1.13.0/reference/generated/numpy.isnan.html\n",
    "<li><b>np.array:</b> https://numpy.org/doc/stable/reference/generated/numpy.array.html\n",
    "\n",
    "<p>Test your function out using the attached apple.csv file. Your function can assume that the file structure is (date,price).\n",
    "\n",
    "<p>Note that simple moving average is defined as (p(t) + p(t-1) + ... + p(t-n+1))/n given that window size is n.\n",
    "\n",
    "<b>Example:</b><br>\n",
    "If the data array is:<br>\n",
    "np.array([1,2,np.NaN,4,8,np.NAN])\n",
    "<br>\n",
    "The output array should be:<br>\n",
    "array([2.33333333, 4.66666667])"
   ]
  },
  {
   "cell_type": "code",
   "execution_count": 56,
   "id": "4e6e3f5f",
   "metadata": {},
   "outputs": [],
   "source": [
    "def get_sma(file_name, window_size):\n",
    " \n",
    "    data = np.genfromtxt(file_name, delimiter=',', skip_header=1, usecols=1)\n",
    "    \n",
    " \n",
    "    data = data[~np.isnan(data)]\n",
    " \n",
    "    sma = np.convolve(data, np.ones(window_size)/window_size, mode='valid')\n",
    "    \n",
    "    return sma"
   ]
  },
  {
   "cell_type": "code",
   "execution_count": 57,
   "id": "b9415ee8",
   "metadata": {},
   "outputs": [
    {
     "data": {
      "text/plain": [
       "array([  0.4259963,   0.4366279,   0.448176 , ..., 157.8919998,\n",
       "       156.7970001, 156.0249999])"
      ]
     },
     "execution_count": 57,
     "metadata": {},
     "output_type": "execute_result"
    }
   ],
   "source": [
    "# Test\n",
    "get_sma('apple.csv', window_size=10)"
   ]
  },
  {
   "cell_type": "markdown",
   "id": "11387e49",
   "metadata": {},
   "source": [
    "<h1>Problem 3: Moving Average Crossover Strategies - Pandas Grouping</h1>\n",
    "In this question, we will conduct a simple trading analysis based on stocks' daily returns and double moving average crossover strategy.<br>\n",
    "\n",
    "Write a program that reads timeseries pricing data from a file into a pandas dataframe and then groups the data as follows:\n",
    "<li>Adds three columns, daily returns and simple moving averages (window size = 50 and 200) to the file\n",
    "<li>Drop rows with Null values\n",
    "<li>Groups the data into four categories:\n",
    "<ul>\n",
    "<li>\"Buy+\" if 50-day SMA is above or equal to 200-day SMA with daily return is positive or zero\n",
    "<li>\"Buy-\" if 50-day SMA is above or equal to 200-day SMA but daily return is negative\n",
    "<li>\"Sell-\" if 50-dat SMA is under 200-day SMA but daily return is positive or zero\n",
    "<li>\"Sell+\" if 50-day SMA is under 200-day SMA with daily return is negative\n",
    "</ul>\n",
    "<li>Report the size and the mean of daily return of each group in dataframe\n",
    "<li>Note the scale of the values returned by the pct_change function (You need to multiply the result by 100)"
   ]
  },
  {
   "cell_type": "code",
   "execution_count": 58,
   "id": "4360bac5",
   "metadata": {},
   "outputs": [],
   "source": [
    "datafile = \"apple.csv\"\n",
    "import pandas as pd\n",
    "import numpy as np\n"
   ]
  },
  {
   "cell_type": "code",
   "execution_count": 59,
   "id": "231f6707",
   "metadata": {},
   "outputs": [],
   "source": [
    "df = pd.read_csv(datafile).dropna()"
   ]
  },
  {
   "cell_type": "code",
   "execution_count": 60,
   "id": "3720aa62",
   "metadata": {},
   "outputs": [],
   "source": [
    "def GroupColFunc(filename):\n",
    " \n",
    "    df = pd.read_csv(filename)\n",
    "    \n",
    "     \n",
    "    df['Daily_Return'] = df['Adj Close'].pct_change() * 100\n",
    "    df['SMA_50'] = df['Adj Close'].rolling(window=50).mean()\n",
    "    df['SMA_200'] = df['Adj Close'].rolling(window=200).mean()\n",
    "    \n",
    "  \n",
    "    df.dropna(inplace=True)\n",
    " \n",
    "    conditions = [\n",
    "        (df['SMA_50'] >= df['SMA_200']) & (df['Daily_Return'] >= 0),\n",
    "        (df['SMA_50'] >= df['SMA_200']) & (df['Daily_Return'] < 0),\n",
    "        (df['SMA_50'] < df['SMA_200']) & (df['Daily_Return'] >= 0),\n",
    "        (df['SMA_50'] < df['SMA_200']) & (df['Daily_Return'] < 0)\n",
    "    ]\n",
    "    choices = ['Buy+', 'Buy-', 'Sell-', 'Sell+']\n",
    "    \n",
    " \n",
    "    df['Group'] = np.select(conditions, choices)\n",
    "    \n",
    " \n",
    "    grouped_data = df.groupby('Group')\n",
    " \n",
    "    group_sizes = grouped_data.size()\n",
    "    group_mean_return = grouped_data['Daily_Return'].mean()\n",
    "    \n",
    "    return group_sizes, group_mean_return\n",
    " \n",
    "group_sizes, group_mean_return = GroupColFunc('apple.csv')"
   ]
  },
  {
   "cell_type": "code",
   "execution_count": 61,
   "id": "5b552527",
   "metadata": {},
   "outputs": [
    {
     "name": "stdout",
     "output_type": "stream",
     "text": [
      "Group Sizes:\n",
      "Group\n",
      "Buy+     2952\n",
      "Buy-     2645\n",
      "Sell+    1531\n",
      "Sell-    1785\n",
      "dtype: int64\n",
      "\n",
      "Group Mean Daily Return:\n",
      "Group\n",
      "Buy+     1.885759\n",
      "Buy-    -1.876487\n",
      "Sell+   -2.225904\n",
      "Sell-    2.154447\n",
      "Name: Daily_Return, dtype: float64\n"
     ]
    }
   ],
   "source": [
    "print(\"Group Sizes:\")\n",
    "print(group_sizes)\n",
    "print(\"\\nGroup Mean Daily Return:\")\n",
    "print(group_mean_return)"
   ]
  },
  {
   "cell_type": "markdown",
   "id": "8ef898ff",
   "metadata": {},
   "source": [
    "Write a function that can choose season and report the size and the mean of each of the groups in dataframe\n",
    "<li>change the data type of 'Date' to datetime\n",
    "<li>write a function get_season() to group months into seasons\n",
    "<li>apply get_season() to create a new 'Season' column\n",
    "<li>write a function that have a dataframe and season name as input\n",
    "<li>call function that you create in the first section to group the data\n",
    "<li>report the size and the mean of daily return of each group of that season"
   ]
  },
  {
   "cell_type": "code",
   "execution_count": 62,
   "id": "3b3b3c19",
   "metadata": {},
   "outputs": [],
   "source": [
    "def GroupColFunc(filename):\n",
    " \n",
    "    df = filename\n",
    "    \n",
    "    \n",
    "    df['Daily_Return'] = df['Adj Close'].pct_change() * 100\n",
    "    df['SMA_50'] = df['Adj Close'].rolling(window=50).mean()\n",
    "    df['SMA_200'] = df['Adj Close'].rolling(window=200).mean()\n",
    "    \n",
    "   \n",
    "    df.dropna(inplace=True)\n",
    " \n",
    "    conditions = [\n",
    "        (df['SMA_50'] >= df['SMA_200']) & (df['Daily_Return'] >= 0),\n",
    "        (df['SMA_50'] >= df['SMA_200']) & (df['Daily_Return'] < 0),\n",
    "        (df['SMA_50'] < df['SMA_200']) & (df['Daily_Return'] >= 0),\n",
    "        (df['SMA_50'] < df['SMA_200']) & (df['Daily_Return'] < 0)\n",
    "    ]\n",
    "    choices = ['Buy+', 'Buy-', 'Sell-', 'Sell+']\n",
    "    \n",
    " \n",
    "    df['Group'] = np.select(conditions, choices)\n",
    "    \n",
    " \n",
    "    grouped_data = df.groupby('Group')\n",
    "    \n",
    " \n",
    "    group_sizes = grouped_data.size()\n",
    "    group_mean_return = grouped_data['Daily_Return'].mean()\n",
    "    \n",
    "    return group_sizes, group_mean_return"
   ]
  },
  {
   "cell_type": "code",
   "execution_count": 63,
   "id": "e6ca47d6",
   "metadata": {},
   "outputs": [],
   "source": [
    "def convert_to_datetime(df):\n",
    "    df['Date'] = pd.to_datetime(df['Date'])\n",
    "    return df\n",
    "\n",
    " \n",
    "def get_season(month):\n",
    "    if month in [12, 1, 2]:\n",
    "        return 'Winter'\n",
    "    elif month in [3, 4, 5]:\n",
    "        return 'Spring'\n",
    "    elif month in [6, 7, 8]:\n",
    "        return 'Summer'\n",
    "    else:\n",
    "        return 'Autumn'\n",
    " \n",
    "def add_season_column(df):\n",
    "    df['Month'] = df['Date'].dt.month\n",
    "    df['Season'] = df['Month'].apply(get_season)\n",
    "    df.drop(columns=['Month'], inplace=True)   \n",
    "    return df\n"
   ]
  },
  {
   "cell_type": "code",
   "execution_count": 64,
   "id": "8900239a",
   "metadata": {},
   "outputs": [],
   "source": [
    "def report_season(df, season):\n",
    " \n",
    "    season_df = df[df['Season'] == season]\n",
    "    \n",
    "    group_sizes, group_mean_return = GroupColFunc(season_df)\n",
    "    \n",
    "    return group_sizes, group_mean_return\n"
   ]
  },
  {
   "cell_type": "code",
   "execution_count": 65,
   "id": "a19ae8ed",
   "metadata": {},
   "outputs": [
    {
     "name": "stderr",
     "output_type": "stream",
     "text": [
      "/var/folders/l5/qv6m8fz50kj98c_3j88t6rw40000gn/T/ipykernel_91642/1631877542.py:6: SettingWithCopyWarning: \n",
      "A value is trying to be set on a copy of a slice from a DataFrame.\n",
      "Try using .loc[row_indexer,col_indexer] = value instead\n",
      "\n",
      "See the caveats in the documentation: https://pandas.pydata.org/pandas-docs/stable/user_guide/indexing.html#returning-a-view-versus-a-copy\n",
      "  df['Daily_Return'] = df['Adj Close'].pct_change() * 100\n",
      "/var/folders/l5/qv6m8fz50kj98c_3j88t6rw40000gn/T/ipykernel_91642/1631877542.py:7: SettingWithCopyWarning: \n",
      "A value is trying to be set on a copy of a slice from a DataFrame.\n",
      "Try using .loc[row_indexer,col_indexer] = value instead\n",
      "\n",
      "See the caveats in the documentation: https://pandas.pydata.org/pandas-docs/stable/user_guide/indexing.html#returning-a-view-versus-a-copy\n",
      "  df['SMA_50'] = df['Adj Close'].rolling(window=50).mean()\n",
      "/var/folders/l5/qv6m8fz50kj98c_3j88t6rw40000gn/T/ipykernel_91642/1631877542.py:8: SettingWithCopyWarning: \n",
      "A value is trying to be set on a copy of a slice from a DataFrame.\n",
      "Try using .loc[row_indexer,col_indexer] = value instead\n",
      "\n",
      "See the caveats in the documentation: https://pandas.pydata.org/pandas-docs/stable/user_guide/indexing.html#returning-a-view-versus-a-copy\n",
      "  df['SMA_200'] = df['Adj Close'].rolling(window=200).mean()\n",
      "/var/folders/l5/qv6m8fz50kj98c_3j88t6rw40000gn/T/ipykernel_91642/1631877542.py:11: SettingWithCopyWarning: \n",
      "A value is trying to be set on a copy of a slice from a DataFrame\n",
      "\n",
      "See the caveats in the documentation: https://pandas.pydata.org/pandas-docs/stable/user_guide/indexing.html#returning-a-view-versus-a-copy\n",
      "  df.dropna(inplace=True)\n",
      "/var/folders/l5/qv6m8fz50kj98c_3j88t6rw40000gn/T/ipykernel_91642/1631877542.py:22: SettingWithCopyWarning: \n",
      "A value is trying to be set on a copy of a slice from a DataFrame.\n",
      "Try using .loc[row_indexer,col_indexer] = value instead\n",
      "\n",
      "See the caveats in the documentation: https://pandas.pydata.org/pandas-docs/stable/user_guide/indexing.html#returning-a-view-versus-a-copy\n",
      "  df['Group'] = np.select(conditions, choices)\n",
      "/var/folders/l5/qv6m8fz50kj98c_3j88t6rw40000gn/T/ipykernel_91642/1631877542.py:6: SettingWithCopyWarning: \n",
      "A value is trying to be set on a copy of a slice from a DataFrame.\n",
      "Try using .loc[row_indexer,col_indexer] = value instead\n",
      "\n",
      "See the caveats in the documentation: https://pandas.pydata.org/pandas-docs/stable/user_guide/indexing.html#returning-a-view-versus-a-copy\n",
      "  df['Daily_Return'] = df['Adj Close'].pct_change() * 100\n",
      "/var/folders/l5/qv6m8fz50kj98c_3j88t6rw40000gn/T/ipykernel_91642/1631877542.py:7: SettingWithCopyWarning: \n",
      "A value is trying to be set on a copy of a slice from a DataFrame.\n",
      "Try using .loc[row_indexer,col_indexer] = value instead\n",
      "\n",
      "See the caveats in the documentation: https://pandas.pydata.org/pandas-docs/stable/user_guide/indexing.html#returning-a-view-versus-a-copy\n",
      "  df['SMA_50'] = df['Adj Close'].rolling(window=50).mean()\n",
      "/var/folders/l5/qv6m8fz50kj98c_3j88t6rw40000gn/T/ipykernel_91642/1631877542.py:8: SettingWithCopyWarning: \n",
      "A value is trying to be set on a copy of a slice from a DataFrame.\n",
      "Try using .loc[row_indexer,col_indexer] = value instead\n",
      "\n",
      "See the caveats in the documentation: https://pandas.pydata.org/pandas-docs/stable/user_guide/indexing.html#returning-a-view-versus-a-copy\n",
      "  df['SMA_200'] = df['Adj Close'].rolling(window=200).mean()\n",
      "/var/folders/l5/qv6m8fz50kj98c_3j88t6rw40000gn/T/ipykernel_91642/1631877542.py:11: SettingWithCopyWarning: \n",
      "A value is trying to be set on a copy of a slice from a DataFrame\n",
      "\n",
      "See the caveats in the documentation: https://pandas.pydata.org/pandas-docs/stable/user_guide/indexing.html#returning-a-view-versus-a-copy\n",
      "  df.dropna(inplace=True)\n",
      "/var/folders/l5/qv6m8fz50kj98c_3j88t6rw40000gn/T/ipykernel_91642/1631877542.py:22: SettingWithCopyWarning: \n",
      "A value is trying to be set on a copy of a slice from a DataFrame.\n",
      "Try using .loc[row_indexer,col_indexer] = value instead\n",
      "\n",
      "See the caveats in the documentation: https://pandas.pydata.org/pandas-docs/stable/user_guide/indexing.html#returning-a-view-versus-a-copy\n",
      "  df['Group'] = np.select(conditions, choices)\n"
     ]
    },
    {
     "data": {
      "text/plain": [
       "(Group\n",
       " Buy+     789\n",
       " Buy-     696\n",
       " Sell+    330\n",
       " Sell-    342\n",
       " dtype: int64,\n",
       " Group\n",
       " Buy+     3.035015\n",
       " Buy-    -2.002003\n",
       " Sell+   -2.472196\n",
       " Sell-    2.636507\n",
       " Name: Daily_Return, dtype: float64)"
      ]
     },
     "execution_count": 65,
     "metadata": {},
     "output_type": "execute_result"
    }
   ],
   "source": [
    "df = pd.read_csv('apple.csv')\n",
    "df = convert_to_datetime(df)\n",
    "df = add_season_column(df)\n",
    "spring_group_sizes, spring_group_mean_return = report_season(df, 'Spring')\n",
    "\n",
    " \n",
    "report_season(df,'Spring')\n"
   ]
  }
 ],
 "metadata": {
  "kernelspec": {
   "display_name": "Python 3 (ipykernel)",
   "language": "python",
   "name": "python3"
  },
  "language_info": {
   "codemirror_mode": {
    "name": "ipython",
    "version": 3
   },
   "file_extension": ".py",
   "mimetype": "text/x-python",
   "name": "python",
   "nbconvert_exporter": "python",
   "pygments_lexer": "ipython3",
   "version": "3.11.4"
  }
 },
 "nbformat": 4,
 "nbformat_minor": 5
}

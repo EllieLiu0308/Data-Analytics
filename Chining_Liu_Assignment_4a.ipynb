{
 "cells": [
  {
   "cell_type": "markdown",
   "metadata": {},
   "source": [
    "<h1>Numpy and Pandas Home Assignment</h1>\n",
    "In this assignment, we will use pandas and numpy to do some fairly basic analysis."
   ]
  },
  {
   "cell_type": "markdown",
   "metadata": {},
   "source": [
    "<h3>Imports</h3>"
   ]
  },
  {
   "cell_type": "code",
   "execution_count": 48,
   "metadata": {},
   "outputs": [
    {
     "name": "stdout",
     "output_type": "stream",
     "text": [
      "Requirement already satisfied: yfinance in /Users/chining/anaconda3/lib/python3.11/site-packages (0.2.31)\n",
      "Requirement already satisfied: pandas>=1.3.0 in /Users/chining/anaconda3/lib/python3.11/site-packages (from yfinance) (1.5.3)\n",
      "Requirement already satisfied: numpy>=1.16.5 in /Users/chining/anaconda3/lib/python3.11/site-packages (from yfinance) (1.24.3)\n",
      "Requirement already satisfied: requests>=2.31 in /Users/chining/anaconda3/lib/python3.11/site-packages (from yfinance) (2.31.0)\n",
      "Requirement already satisfied: multitasking>=0.0.7 in /Users/chining/anaconda3/lib/python3.11/site-packages (from yfinance) (0.0.11)\n",
      "Requirement already satisfied: lxml>=4.9.1 in /Users/chining/anaconda3/lib/python3.11/site-packages (from yfinance) (4.9.2)\n",
      "Requirement already satisfied: appdirs>=1.4.4 in /Users/chining/anaconda3/lib/python3.11/site-packages (from yfinance) (1.4.4)\n",
      "Requirement already satisfied: pytz>=2022.5 in /Users/chining/anaconda3/lib/python3.11/site-packages (from yfinance) (2022.7)\n",
      "Requirement already satisfied: frozendict>=2.3.4 in /Users/chining/anaconda3/lib/python3.11/site-packages (from yfinance) (2.3.8)\n",
      "Requirement already satisfied: peewee>=3.16.2 in /Users/chining/anaconda3/lib/python3.11/site-packages (from yfinance) (3.16.3)\n",
      "Requirement already satisfied: beautifulsoup4>=4.11.1 in /Users/chining/anaconda3/lib/python3.11/site-packages (from yfinance) (4.12.2)\n",
      "Requirement already satisfied: html5lib>=1.1 in /Users/chining/anaconda3/lib/python3.11/site-packages (from yfinance) (1.1)\n",
      "Requirement already satisfied: soupsieve>1.2 in /Users/chining/anaconda3/lib/python3.11/site-packages (from beautifulsoup4>=4.11.1->yfinance) (2.4)\n",
      "Requirement already satisfied: six>=1.9 in /Users/chining/anaconda3/lib/python3.11/site-packages (from html5lib>=1.1->yfinance) (1.16.0)\n",
      "Requirement already satisfied: webencodings in /Users/chining/anaconda3/lib/python3.11/site-packages (from html5lib>=1.1->yfinance) (0.5.1)\n",
      "Requirement already satisfied: python-dateutil>=2.8.1 in /Users/chining/anaconda3/lib/python3.11/site-packages (from pandas>=1.3.0->yfinance) (2.8.2)\n",
      "Requirement already satisfied: charset-normalizer<4,>=2 in /Users/chining/anaconda3/lib/python3.11/site-packages (from requests>=2.31->yfinance) (2.0.4)\n",
      "Requirement already satisfied: idna<4,>=2.5 in /Users/chining/anaconda3/lib/python3.11/site-packages (from requests>=2.31->yfinance) (3.4)\n",
      "Requirement already satisfied: urllib3<3,>=1.21.1 in /Users/chining/anaconda3/lib/python3.11/site-packages (from requests>=2.31->yfinance) (1.26.16)\n",
      "Requirement already satisfied: certifi>=2017.4.17 in /Users/chining/anaconda3/lib/python3.11/site-packages (from requests>=2.31->yfinance) (2023.7.22)\n"
     ]
    }
   ],
   "source": [
    "!pip install yfinance\n",
    "import datetime\n",
    "import numpy as np\n",
    "import pandas as pd\n",
    "%matplotlib inline\n",
    "import yfinance as yf\n",
    "import statsmodels.api as sm"
   ]
  },
  {
   "cell_type": "markdown",
   "metadata": {},
   "source": [
    "<h3>Get data on the following four stocks from yahoo finance</h3>\n",
    "<li>AMZN, AAPL,META, NFLX\n",
    "<li>Use the date range 2018/1/1/ to 2022/12/31"
   ]
  },
  {
   "cell_type": "code",
   "execution_count": 49,
   "metadata": {},
   "outputs": [
    {
     "name": "stdout",
     "output_type": "stream",
     "text": [
      "[*********************100%%**********************]  4 of 4 completed\n"
     ]
    }
   ],
   "source": [
    "data = yf.download(['AMZN','AAPL', 'META', 'NFLX'], start = '2018-01-01', end='2022-12-31')"
   ]
  },
  {
   "cell_type": "markdown",
   "metadata": {},
   "source": [
    "<h3>Get the data for each Christmas Eve</h3>\n",
    "<li>If there is no data for certain date, use its most recent data record."
   ]
  },
  {
   "cell_type": "code",
   "execution_count": 50,
   "metadata": {},
   "outputs": [
    {
     "name": "stdout",
     "output_type": "stream",
     "text": [
      "             Adj Close                                           Close  \\\n",
      "                  AAPL        AMZN        META        NFLX        AAPL   \n",
      "2018-12-24   35.278675   67.197998  124.059998  233.880005   36.707500   \n",
      "2019-12-24   69.327446   89.460503  205.119995  333.200012   71.067497   \n",
      "2020-12-24  129.850571  158.634506  267.399994  513.969971  131.970001   \n",
      "2021-12-23  174.518234  171.068497  335.239990  614.090027  176.279999   \n",
      "2022-12-23  131.299820   85.250000  118.040001  294.959991  131.860001   \n",
      "\n",
      "                                                      High              ...  \\\n",
      "                  AMZN        META        NFLX        AAPL        AMZN  ...   \n",
      "2018-12-24   67.197998  124.059998  233.880005   37.887501   69.801498  ...   \n",
      "2019-12-24   89.460503  205.119995  333.200012   71.222504   89.778503  ...   \n",
      "2020-12-24  158.634506  267.399994  513.969971  133.460007  160.100006  ...   \n",
      "2021-12-23  171.068497  335.239990  614.090027  176.850006  171.975006  ...   \n",
      "2022-12-23   85.250000  118.040001  294.959991  132.419998   85.779999  ...   \n",
      "\n",
      "                   Low                    Open                          \\\n",
      "                  META        NFLX        AAPL        AMZN        META   \n",
      "2018-12-24  123.019997  233.679993   37.037498   67.300003  123.099998   \n",
      "2019-12-24  205.000000  331.600006   71.172501   89.690498  206.300003   \n",
      "2020-12-24  266.200012  512.210022  131.320007  159.695007  268.880005   \n",
      "2021-12-23  328.359985  607.570007  175.850006  170.427994  330.100006   \n",
      "2022-12-23  115.540001  291.910004  130.919998   83.250000  116.029999   \n",
      "\n",
      "                             Volume                                      \n",
      "                  NFLX         AAPL         AMZN        META       NFLX  \n",
      "2018-12-24  242.000000  148676800.0  144400000.0  22066000.0  9547600.0  \n",
      "2019-12-24  334.010010   48478800.0   17626000.0   6046300.0  2019300.0  \n",
      "2020-12-24  515.119995   54930100.0   29038000.0   6702000.0  1144000.0  \n",
      "2021-12-23  616.400024   68356600.0   36788000.0  13987700.0  1621100.0  \n",
      "2022-12-23  296.179993   63814900.0   57433700.0  17796600.0  4251100.0  \n",
      "\n",
      "[5 rows x 24 columns]\n"
     ]
    },
    {
     "name": "stderr",
     "output_type": "stream",
     "text": [
      "/var/folders/l5/qv6m8fz50kj98c_3j88t6rw40000gn/T/ipykernel_87179/1294016859.py:8: FutureWarning: The frame.append method is deprecated and will be removed from pandas in a future version. Use pandas.concat instead.\n",
      "  christmas_eve_data = christmas_eve_data.append(closest_data)\n",
      "/var/folders/l5/qv6m8fz50kj98c_3j88t6rw40000gn/T/ipykernel_87179/1294016859.py:8: FutureWarning: The frame.append method is deprecated and will be removed from pandas in a future version. Use pandas.concat instead.\n",
      "  christmas_eve_data = christmas_eve_data.append(closest_data)\n",
      "/var/folders/l5/qv6m8fz50kj98c_3j88t6rw40000gn/T/ipykernel_87179/1294016859.py:8: FutureWarning: The frame.append method is deprecated and will be removed from pandas in a future version. Use pandas.concat instead.\n",
      "  christmas_eve_data = christmas_eve_data.append(closest_data)\n",
      "/var/folders/l5/qv6m8fz50kj98c_3j88t6rw40000gn/T/ipykernel_87179/1294016859.py:8: FutureWarning: The frame.append method is deprecated and will be removed from pandas in a future version. Use pandas.concat instead.\n",
      "  christmas_eve_data = christmas_eve_data.append(closest_data)\n",
      "/var/folders/l5/qv6m8fz50kj98c_3j88t6rw40000gn/T/ipykernel_87179/1294016859.py:8: FutureWarning: The frame.append method is deprecated and will be removed from pandas in a future version. Use pandas.concat instead.\n",
      "  christmas_eve_data = christmas_eve_data.append(closest_data)\n"
     ]
    }
   ],
   "source": [
    "christmas_eve_dates = pd.date_range('2018-12-24', periods=5, freq=pd.DateOffset(months=12, day=24))\n",
    " \n",
    "christmas_eve_data = pd.DataFrame()\n",
    "\n",
    "for date in christmas_eve_dates: \n",
    "    closest_date = data.index[data.index <= date].max()\n",
    "    closest_data = data.loc[closest_date]\n",
    "    christmas_eve_data = christmas_eve_data.append(closest_data) \n",
    "    \n",
    "print(christmas_eve_data)\n"
   ]
  },
  {
   "cell_type": "markdown",
   "metadata": {},
   "source": [
    "<h3>Compute the daily change of each stock</h3>\n",
    "<li>Create a DataFrame 'diff' with the daily changes using the column 'Adj Close'"
   ]
  },
  {
   "cell_type": "code",
   "execution_count": 51,
   "metadata": {},
   "outputs": [
    {
     "name": "stdout",
     "output_type": "stream",
     "text": [
      "                AAPL      AMZN      META      NFLX\n",
      "Date                                              \n",
      "2018-01-02       NaN       NaN       NaN       NaN\n",
      "2018-01-03 -0.000174  0.012775  0.017914  0.019794\n",
      "2018-01-04  0.004645  0.004476 -0.001841  0.002829\n",
      "2018-01-05  0.011386  0.016163  0.013671  0.021203\n",
      "2018-01-08 -0.003714  0.014425  0.007653  0.009810\n",
      "...              ...       ...       ...       ...\n",
      "2022-12-23 -0.002798  0.017425  0.007855 -0.009370\n",
      "2022-12-27 -0.013878 -0.025924 -0.009827 -0.036581\n",
      "2022-12-28 -0.030685 -0.014692 -0.010780 -0.025654\n",
      "2022-12-29  0.028324  0.028844  0.040131  0.051430\n",
      "2022-12-30  0.002469 -0.002138  0.000665  0.012916\n",
      "\n",
      "[1259 rows x 4 columns]\n"
     ]
    }
   ],
   "source": [
    "diff = data['Adj Close'].pct_change()\n",
    "print(diff)\n"
   ]
  },
  {
   "cell_type": "markdown",
   "metadata": {},
   "source": [
    "<h3>Calculate the mean and std dev of the daily change of each stock</h3>\n",
    "<li>Note that line 1 contains a NaN. You need to get rid of this line"
   ]
  },
  {
   "cell_type": "code",
   "execution_count": 52,
   "metadata": {},
   "outputs": [
    {
     "name": "stdout",
     "output_type": "stream",
     "text": [
      "AAPL    0.001141\n",
      "AMZN    0.000529\n",
      "META    0.000056\n",
      "NFLX    0.000773\n",
      "dtype: float64\n",
      "AAPL    0.021094\n",
      "AMZN    0.022554\n",
      "META    0.027233\n",
      "NFLX    0.030067\n",
      "dtype: float64\n"
     ]
    }
   ],
   "source": [
    "data = diff.dropna()\n",
    "data_mean = data.mean()\n",
    "print(data_mean)\n",
    "data_std = data.std()\n",
    "print(data_std)"
   ]
  },
  {
   "cell_type": "markdown",
   "metadata": {},
   "source": [
    "<h3>Group the dates into 2 categories according to the daily change of certain stock</h3>\n",
    "\n",
    "<li>Find the stock with the smallest mean in the last question (Denoted as stock_A in the following instruction)\n",
    "<li>When the change of stock_A > 0, that date will be group into 'Positive'\n",
    "<li>Else group it into 'Negative'\n",
    "<li>Then find the mean of daily change in each group\n",
    "<h4><li>Define a function to do the grouping as instructed above, adding a new column to the DataFrame will not be accepted.</h4>\n",
    "<li>You may change the setting of parameters of the function."
   ]
  },
  {
   "cell_type": "code",
   "execution_count": 53,
   "metadata": {},
   "outputs": [
    {
     "name": "stdout",
     "output_type": "stream",
     "text": [
      "Smallest Mean: META\n"
     ]
    }
   ],
   "source": [
    "smallest_mean = data_mean.idxmin()\n",
    " \n",
    "print(\"Smallest Mean:\", smallest_mean)"
   ]
  },
  {
   "cell_type": "code",
   "execution_count": 54,
   "metadata": {},
   "outputs": [
    {
     "name": "stdout",
     "output_type": "stream",
     "text": [
      "META\n",
      "Date\n",
      "2018-01-03    0.017914\n",
      "2018-01-04   -0.001841\n",
      "2018-01-05    0.013671\n",
      "2018-01-08    0.007653\n",
      "2018-01-09   -0.002178\n",
      "                ...   \n",
      "2022-12-23    0.007855\n",
      "2022-12-27   -0.009827\n",
      "2022-12-28   -0.010780\n",
      "2022-12-29    0.040131\n",
      "2022-12-30    0.000665\n",
      "Name: META, Length: 1258, dtype: float64\n",
      "Negative   -0.018424\n",
      "Positive    0.017676\n",
      "Name: META, dtype: float64\n"
     ]
    }
   ],
   "source": [
    "def categorize_dates(data):\n",
    " \n",
    "    mean_daily_change = data.mean()\n",
    "    \n",
    " \n",
    "    stock_A = mean_daily_change.idxmin()\n",
    "    print(stock_A)\n",
    "    \n",
    " \n",
    "    daily_change_A = data['META']\n",
    "    print(daily_change_A)\n",
    "    \n",
    " \n",
    "    categories = ['Positive' if change > 0 else 'Negative' for change in daily_change_A]\n",
    " \n",
    "    mean_daily_change_by_category = daily_change_A.groupby(categories).mean()\n",
    "    \n",
    "    return mean_daily_change_by_category\n",
    "\n",
    "result = categorize_dates(data)\n",
    "\n",
    "print(result)\n"
   ]
  },
  {
   "cell_type": "markdown",
   "metadata": {},
   "source": [
    "<h3>Find the most correlated stock with stock_A</h3>\n",
    "<li>Calculate cross correlations on DataFrame diff\n",
    "<li>Find the stock with the highest correlation with stock_A, store it as stock_B.\n",
    "<li>Do not find stock_B by just eyeballing the result.\n",
    "<li>Note: when you find the highest correlation, keep in mind the correlation between stock_A and stock_A is 1.0."
   ]
  },
  {
   "cell_type": "code",
   "execution_count": 55,
   "metadata": {},
   "outputs": [
    {
     "name": "stdout",
     "output_type": "stream",
     "text": [
      "The most correlated stock with META is AMZN.\n"
     ]
    }
   ],
   "source": [
    "correlations = diff.corr()\n",
    "\n",
    "stock_A = 'META'\n",
    "stock_B = correlations[stock_A].drop(stock_A).idxmax()\n",
    "\n",
    "print(f\"The most correlated stock with {stock_A} is {stock_B}.\")\n"
   ]
  },
  {
   "cell_type": "markdown",
   "metadata": {},
   "source": [
    "<h3>Do a regression analysis of stock_B on stock_A</h3>\n",
    "<li>With y = stock_B's daily change, X = stock_A's daily change, build an OLS model to do the regression\n",
    "<li>Remember to add intercept to X\n",
    "<li>Print the result."
   ]
  },
  {
   "cell_type": "code",
   "execution_count": 56,
   "metadata": {},
   "outputs": [
    {
     "name": "stdout",
     "output_type": "stream",
     "text": [
      "                            OLS Regression Results                            \n",
      "==============================================================================\n",
      "Dep. Variable:                   AMZN   R-squared:                       0.373\n",
      "Model:                            OLS   Adj. R-squared:                  0.372\n",
      "Method:                 Least Squares   F-statistic:                     746.8\n",
      "Date:                Sun, 15 Oct 2023   Prob (F-statistic):          1.99e-129\n",
      "Time:                        14:54:06   Log-Likelihood:                 3279.1\n",
      "No. Observations:                1258   AIC:                            -6554.\n",
      "Df Residuals:                    1256   BIC:                            -6544.\n",
      "Df Model:                           1                                         \n",
      "Covariance Type:            nonrobust                                         \n",
      "==============================================================================\n",
      "                 coef    std err          t      P>|t|      [0.025      0.975]\n",
      "------------------------------------------------------------------------------\n",
      "const          0.0005      0.001      0.994      0.321      -0.000       0.001\n",
      "META           0.5057      0.019     27.328      0.000       0.469       0.542\n",
      "==============================================================================\n",
      "Omnibus:                      256.944   Durbin-Watson:                   1.876\n",
      "Prob(Omnibus):                  0.000   Jarque-Bera (JB):             3412.679\n",
      "Skew:                           0.541   Prob(JB):                         0.00\n",
      "Kurtosis:                      10.996   Cond. No.                         36.7\n",
      "==============================================================================\n",
      "\n",
      "Notes:\n",
      "[1] Standard Errors assume that the covariance matrix of the errors is correctly specified.\n"
     ]
    }
   ],
   "source": [
    "import statsmodels.api as sm\n",
    "\n",
    "y = diff['AMZN'].dropna()   \n",
    "X = diff[['META']].dropna()   \n",
    "\n",
    " \n",
    "X = sm.add_constant(X)\n",
    "\n",
    " \n",
    "model = sm.OLS(y, X).fit()\n",
    "\n",
    "print(model.summary())\n"
   ]
  },
  {
   "cell_type": "code",
   "execution_count": null,
   "metadata": {},
   "outputs": [],
   "source": []
  }
 ],
 "metadata": {
  "kernelspec": {
   "display_name": "Python 3 (ipykernel)",
   "language": "python",
   "name": "python3"
  },
  "language_info": {
   "codemirror_mode": {
    "name": "ipython",
    "version": 3
   },
   "file_extension": ".py",
   "mimetype": "text/x-python",
   "name": "python",
   "nbconvert_exporter": "python",
   "pygments_lexer": "ipython3",
   "version": "3.11.4"
  }
 },
 "nbformat": 4,
 "nbformat_minor": 2
}
